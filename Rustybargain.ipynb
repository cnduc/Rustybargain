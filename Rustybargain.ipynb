{
 "cells": [
  {
   "cell_type": "markdown",
   "metadata": {},
   "source": [
    "Rusty Bargain used car sales service is developing an app to attract new customers. In that app, you can quickly find out the market value of your car. You have access to historical data: technical specifications, trim versions, and prices. You need to build the model to determine the value. \n",
    "\n",
    "Rusty Bargain is interested in:\n",
    "\n",
    "- the quality of the prediction;\n",
    "- the speed of the prediction;\n",
    "- the time required for training"
   ]
  },
  {
   "cell_type": "markdown",
   "metadata": {},
   "source": [
    "# 1. Data preparation"
   ]
  },
  {
   "cell_type": "markdown",
   "metadata": {},
   "source": [
    "The dataset is stored in file /datasets/car_data.csv\n",
    "\n",
    "Features:\n",
    "\n",
    "DateCrawled — date profile was downloaded from the database\n",
    "\n",
    "VehicleType — vehicle body type\n",
    "\n",
    "RegistrationYear — vehicle registration year\n",
    "\n",
    "Gearbox — gearbox type\n",
    "\n",
    "Power — power (hp)\n",
    "\n",
    "Model — vehicle model\n",
    "\n",
    "Mileage — mileage (measured in km due to dataset's regional specifics)\n",
    "\n",
    "RegistrationMonth — vehicle registration month\n",
    "\n",
    "FuelType — fuel type\n",
    "\n",
    "Brand — vehicle brand\n",
    "\n",
    "NotRepaired — vehicle repaired or not\n",
    "\n",
    "DateCreated — date of profile creation\n",
    "\n",
    "NumberOfPictures — number of vehicle pictures\n",
    "\n",
    "PostalCode — postal code of profile owner (user)\n",
    "\n",
    "LastSeen — date of the last activity of the user\n",
    "\n",
    "Target:\n",
    "\n",
    "Price"
   ]
  },
  {
   "cell_type": "code",
   "execution_count": 1,
   "metadata": {},
   "outputs": [],
   "source": [
    "import pandas as pd\n",
    "import numpy as np\n",
    "from datetime import datetime\n",
    "import lightgbm\n",
    "import catboost\n",
    "import joblib\n",
    "import time\n",
    "import timeit"
   ]
  },
  {
   "cell_type": "code",
   "execution_count": 2,
   "metadata": {},
   "outputs": [
    {
     "name": "stdout",
     "output_type": "stream",
     "text": [
      "Defaulting to user installation because normal site-packages is not writeable\n",
      "Requirement already up-to-date: scikit-learn in /home/jovyan/.local/lib/python3.7/site-packages (0.24.0)\n",
      "Requirement already satisfied, skipping upgrade: joblib>=0.11 in /opt/conda/lib/python3.7/site-packages (from scikit-learn) (0.16.0)\n",
      "Requirement already satisfied, skipping upgrade: threadpoolctl>=2.0.0 in /home/jovyan/.local/lib/python3.7/site-packages (from scikit-learn) (2.1.0)\n",
      "Requirement already satisfied, skipping upgrade: numpy>=1.13.3 in /opt/conda/lib/python3.7/site-packages (from scikit-learn) (1.19.0)\n",
      "Requirement already satisfied, skipping upgrade: scipy>=0.19.1 in /opt/conda/lib/python3.7/site-packages (from scikit-learn) (1.4.1)\n"
     ]
    }
   ],
   "source": [
    "!pip install scikit-learn --upgrade"
   ]
  },
  {
   "cell_type": "code",
   "execution_count": 3,
   "metadata": {},
   "outputs": [
    {
     "data": {
      "text/html": [
       "<div>\n",
       "<style scoped>\n",
       "    .dataframe tbody tr th:only-of-type {\n",
       "        vertical-align: middle;\n",
       "    }\n",
       "\n",
       "    .dataframe tbody tr th {\n",
       "        vertical-align: top;\n",
       "    }\n",
       "\n",
       "    .dataframe thead th {\n",
       "        text-align: right;\n",
       "    }\n",
       "</style>\n",
       "<table border=\"1\" class=\"dataframe\">\n",
       "  <thead>\n",
       "    <tr style=\"text-align: right;\">\n",
       "      <th></th>\n",
       "      <th>DateCrawled</th>\n",
       "      <th>Price</th>\n",
       "      <th>VehicleType</th>\n",
       "      <th>RegistrationYear</th>\n",
       "      <th>Gearbox</th>\n",
       "      <th>Power</th>\n",
       "      <th>Model</th>\n",
       "      <th>Mileage</th>\n",
       "      <th>RegistrationMonth</th>\n",
       "      <th>FuelType</th>\n",
       "      <th>Brand</th>\n",
       "      <th>NotRepaired</th>\n",
       "      <th>DateCreated</th>\n",
       "      <th>NumberOfPictures</th>\n",
       "      <th>PostalCode</th>\n",
       "      <th>LastSeen</th>\n",
       "    </tr>\n",
       "  </thead>\n",
       "  <tbody>\n",
       "    <tr>\n",
       "      <td>0</td>\n",
       "      <td>24/03/2016 11:52</td>\n",
       "      <td>480</td>\n",
       "      <td>NaN</td>\n",
       "      <td>1993</td>\n",
       "      <td>manual</td>\n",
       "      <td>0</td>\n",
       "      <td>golf</td>\n",
       "      <td>150000</td>\n",
       "      <td>0</td>\n",
       "      <td>petrol</td>\n",
       "      <td>volkswagen</td>\n",
       "      <td>NaN</td>\n",
       "      <td>24/03/2016 00:00</td>\n",
       "      <td>0</td>\n",
       "      <td>70435</td>\n",
       "      <td>07/04/2016 03:16</td>\n",
       "    </tr>\n",
       "    <tr>\n",
       "      <td>1</td>\n",
       "      <td>24/03/2016 10:58</td>\n",
       "      <td>18300</td>\n",
       "      <td>coupe</td>\n",
       "      <td>2011</td>\n",
       "      <td>manual</td>\n",
       "      <td>190</td>\n",
       "      <td>NaN</td>\n",
       "      <td>125000</td>\n",
       "      <td>5</td>\n",
       "      <td>gasoline</td>\n",
       "      <td>audi</td>\n",
       "      <td>yes</td>\n",
       "      <td>24/03/2016 00:00</td>\n",
       "      <td>0</td>\n",
       "      <td>66954</td>\n",
       "      <td>07/04/2016 01:46</td>\n",
       "    </tr>\n",
       "    <tr>\n",
       "      <td>2</td>\n",
       "      <td>14/03/2016 12:52</td>\n",
       "      <td>9800</td>\n",
       "      <td>suv</td>\n",
       "      <td>2004</td>\n",
       "      <td>auto</td>\n",
       "      <td>163</td>\n",
       "      <td>grand</td>\n",
       "      <td>125000</td>\n",
       "      <td>8</td>\n",
       "      <td>gasoline</td>\n",
       "      <td>jeep</td>\n",
       "      <td>NaN</td>\n",
       "      <td>14/03/2016 00:00</td>\n",
       "      <td>0</td>\n",
       "      <td>90480</td>\n",
       "      <td>05/04/2016 12:47</td>\n",
       "    </tr>\n",
       "    <tr>\n",
       "      <td>3</td>\n",
       "      <td>17/03/2016 16:54</td>\n",
       "      <td>1500</td>\n",
       "      <td>small</td>\n",
       "      <td>2001</td>\n",
       "      <td>manual</td>\n",
       "      <td>75</td>\n",
       "      <td>golf</td>\n",
       "      <td>150000</td>\n",
       "      <td>6</td>\n",
       "      <td>petrol</td>\n",
       "      <td>volkswagen</td>\n",
       "      <td>no</td>\n",
       "      <td>17/03/2016 00:00</td>\n",
       "      <td>0</td>\n",
       "      <td>91074</td>\n",
       "      <td>17/03/2016 17:40</td>\n",
       "    </tr>\n",
       "    <tr>\n",
       "      <td>4</td>\n",
       "      <td>31/03/2016 17:25</td>\n",
       "      <td>3600</td>\n",
       "      <td>small</td>\n",
       "      <td>2008</td>\n",
       "      <td>manual</td>\n",
       "      <td>69</td>\n",
       "      <td>fabia</td>\n",
       "      <td>90000</td>\n",
       "      <td>7</td>\n",
       "      <td>gasoline</td>\n",
       "      <td>skoda</td>\n",
       "      <td>no</td>\n",
       "      <td>31/03/2016 00:00</td>\n",
       "      <td>0</td>\n",
       "      <td>60437</td>\n",
       "      <td>06/04/2016 10:17</td>\n",
       "    </tr>\n",
       "  </tbody>\n",
       "</table>\n",
       "</div>"
      ],
      "text/plain": [
       "        DateCrawled  Price VehicleType  RegistrationYear Gearbox  Power  \\\n",
       "0  24/03/2016 11:52    480         NaN              1993  manual      0   \n",
       "1  24/03/2016 10:58  18300       coupe              2011  manual    190   \n",
       "2  14/03/2016 12:52   9800         suv              2004    auto    163   \n",
       "3  17/03/2016 16:54   1500       small              2001  manual     75   \n",
       "4  31/03/2016 17:25   3600       small              2008  manual     69   \n",
       "\n",
       "   Model  Mileage  RegistrationMonth  FuelType       Brand NotRepaired  \\\n",
       "0   golf   150000                  0    petrol  volkswagen         NaN   \n",
       "1    NaN   125000                  5  gasoline        audi         yes   \n",
       "2  grand   125000                  8  gasoline        jeep         NaN   \n",
       "3   golf   150000                  6    petrol  volkswagen          no   \n",
       "4  fabia    90000                  7  gasoline       skoda          no   \n",
       "\n",
       "        DateCreated  NumberOfPictures  PostalCode          LastSeen  \n",
       "0  24/03/2016 00:00                 0       70435  07/04/2016 03:16  \n",
       "1  24/03/2016 00:00                 0       66954  07/04/2016 01:46  \n",
       "2  14/03/2016 00:00                 0       90480  05/04/2016 12:47  \n",
       "3  17/03/2016 00:00                 0       91074  17/03/2016 17:40  \n",
       "4  31/03/2016 00:00                 0       60437  06/04/2016 10:17  "
      ]
     },
     "execution_count": 3,
     "metadata": {},
     "output_type": "execute_result"
    }
   ],
   "source": [
    "df = pd.read_csv('/datasets/car_data.csv')\n",
    "df.head()"
   ]
  },
  {
   "cell_type": "code",
   "execution_count": 4,
   "metadata": {},
   "outputs": [
    {
     "name": "stdout",
     "output_type": "stream",
     "text": [
      "<class 'pandas.core.frame.DataFrame'>\n",
      "RangeIndex: 354369 entries, 0 to 354368\n",
      "Data columns (total 16 columns):\n",
      "DateCrawled          354369 non-null object\n",
      "Price                354369 non-null int64\n",
      "VehicleType          316879 non-null object\n",
      "RegistrationYear     354369 non-null int64\n",
      "Gearbox              334536 non-null object\n",
      "Power                354369 non-null int64\n",
      "Model                334664 non-null object\n",
      "Mileage              354369 non-null int64\n",
      "RegistrationMonth    354369 non-null int64\n",
      "FuelType             321474 non-null object\n",
      "Brand                354369 non-null object\n",
      "NotRepaired          283215 non-null object\n",
      "DateCreated          354369 non-null object\n",
      "NumberOfPictures     354369 non-null int64\n",
      "PostalCode           354369 non-null int64\n",
      "LastSeen             354369 non-null object\n",
      "dtypes: int64(7), object(9)\n",
      "memory usage: 43.3+ MB\n"
     ]
    }
   ],
   "source": [
    "df.info()"
   ]
  },
  {
   "cell_type": "code",
   "execution_count": 5,
   "metadata": {},
   "outputs": [
    {
     "data": {
      "text/html": [
       "<div>\n",
       "<style scoped>\n",
       "    .dataframe tbody tr th:only-of-type {\n",
       "        vertical-align: middle;\n",
       "    }\n",
       "\n",
       "    .dataframe tbody tr th {\n",
       "        vertical-align: top;\n",
       "    }\n",
       "\n",
       "    .dataframe thead th {\n",
       "        text-align: right;\n",
       "    }\n",
       "</style>\n",
       "<table border=\"1\" class=\"dataframe\">\n",
       "  <thead>\n",
       "    <tr style=\"text-align: right;\">\n",
       "      <th></th>\n",
       "      <th>Price</th>\n",
       "      <th>RegistrationYear</th>\n",
       "      <th>Power</th>\n",
       "      <th>Mileage</th>\n",
       "      <th>RegistrationMonth</th>\n",
       "      <th>NumberOfPictures</th>\n",
       "      <th>PostalCode</th>\n",
       "    </tr>\n",
       "  </thead>\n",
       "  <tbody>\n",
       "    <tr>\n",
       "      <td>count</td>\n",
       "      <td>354369.000000</td>\n",
       "      <td>354369.000000</td>\n",
       "      <td>354369.000000</td>\n",
       "      <td>354369.000000</td>\n",
       "      <td>354369.000000</td>\n",
       "      <td>354369.0</td>\n",
       "      <td>354369.000000</td>\n",
       "    </tr>\n",
       "    <tr>\n",
       "      <td>mean</td>\n",
       "      <td>4416.656776</td>\n",
       "      <td>2004.234448</td>\n",
       "      <td>110.094337</td>\n",
       "      <td>128211.172535</td>\n",
       "      <td>5.714645</td>\n",
       "      <td>0.0</td>\n",
       "      <td>50508.689087</td>\n",
       "    </tr>\n",
       "    <tr>\n",
       "      <td>std</td>\n",
       "      <td>4514.158514</td>\n",
       "      <td>90.227958</td>\n",
       "      <td>189.850405</td>\n",
       "      <td>37905.341530</td>\n",
       "      <td>3.726421</td>\n",
       "      <td>0.0</td>\n",
       "      <td>25783.096248</td>\n",
       "    </tr>\n",
       "    <tr>\n",
       "      <td>min</td>\n",
       "      <td>0.000000</td>\n",
       "      <td>1000.000000</td>\n",
       "      <td>0.000000</td>\n",
       "      <td>5000.000000</td>\n",
       "      <td>0.000000</td>\n",
       "      <td>0.0</td>\n",
       "      <td>1067.000000</td>\n",
       "    </tr>\n",
       "    <tr>\n",
       "      <td>25%</td>\n",
       "      <td>1050.000000</td>\n",
       "      <td>1999.000000</td>\n",
       "      <td>69.000000</td>\n",
       "      <td>125000.000000</td>\n",
       "      <td>3.000000</td>\n",
       "      <td>0.0</td>\n",
       "      <td>30165.000000</td>\n",
       "    </tr>\n",
       "    <tr>\n",
       "      <td>50%</td>\n",
       "      <td>2700.000000</td>\n",
       "      <td>2003.000000</td>\n",
       "      <td>105.000000</td>\n",
       "      <td>150000.000000</td>\n",
       "      <td>6.000000</td>\n",
       "      <td>0.0</td>\n",
       "      <td>49413.000000</td>\n",
       "    </tr>\n",
       "    <tr>\n",
       "      <td>75%</td>\n",
       "      <td>6400.000000</td>\n",
       "      <td>2008.000000</td>\n",
       "      <td>143.000000</td>\n",
       "      <td>150000.000000</td>\n",
       "      <td>9.000000</td>\n",
       "      <td>0.0</td>\n",
       "      <td>71083.000000</td>\n",
       "    </tr>\n",
       "    <tr>\n",
       "      <td>max</td>\n",
       "      <td>20000.000000</td>\n",
       "      <td>9999.000000</td>\n",
       "      <td>20000.000000</td>\n",
       "      <td>150000.000000</td>\n",
       "      <td>12.000000</td>\n",
       "      <td>0.0</td>\n",
       "      <td>99998.000000</td>\n",
       "    </tr>\n",
       "  </tbody>\n",
       "</table>\n",
       "</div>"
      ],
      "text/plain": [
       "               Price  RegistrationYear          Power        Mileage  \\\n",
       "count  354369.000000     354369.000000  354369.000000  354369.000000   \n",
       "mean     4416.656776       2004.234448     110.094337  128211.172535   \n",
       "std      4514.158514         90.227958     189.850405   37905.341530   \n",
       "min         0.000000       1000.000000       0.000000    5000.000000   \n",
       "25%      1050.000000       1999.000000      69.000000  125000.000000   \n",
       "50%      2700.000000       2003.000000     105.000000  150000.000000   \n",
       "75%      6400.000000       2008.000000     143.000000  150000.000000   \n",
       "max     20000.000000       9999.000000   20000.000000  150000.000000   \n",
       "\n",
       "       RegistrationMonth  NumberOfPictures     PostalCode  \n",
       "count      354369.000000          354369.0  354369.000000  \n",
       "mean            5.714645               0.0   50508.689087  \n",
       "std             3.726421               0.0   25783.096248  \n",
       "min             0.000000               0.0    1067.000000  \n",
       "25%             3.000000               0.0   30165.000000  \n",
       "50%             6.000000               0.0   49413.000000  \n",
       "75%             9.000000               0.0   71083.000000  \n",
       "max            12.000000               0.0   99998.000000  "
      ]
     },
     "execution_count": 5,
     "metadata": {},
     "output_type": "execute_result"
    }
   ],
   "source": [
    "df.describe()"
   ]
  },
  {
   "cell_type": "markdown",
   "metadata": {},
   "source": [
    "RegistrationYear year having 9999 max value seems incorrect value\n",
    "\n",
    "Price is having 0 value, so there might be some free bikes in our data\n",
    "\n",
    "RegistrationMonth can't have 0 value, it seems incorrect\n",
    "\n",
    "NumberOfPictures seems like having only zero values, if so, it will not going to be a significant feature we can safely remove it."
   ]
  },
  {
   "cell_type": "code",
   "execution_count": 6,
   "metadata": {},
   "outputs": [
    {
     "data": {
      "text/plain": [
       "sedan          91457\n",
       "small          79831\n",
       "wagon          65166\n",
       "bus            28775\n",
       "convertible    20203\n",
       "coupe          16163\n",
       "suv            11996\n",
       "other           3288\n",
       "Name: VehicleType, dtype: int64"
      ]
     },
     "execution_count": 6,
     "metadata": {},
     "output_type": "execute_result"
    }
   ],
   "source": [
    "df.VehicleType.value_counts()"
   ]
  },
  {
   "cell_type": "code",
   "execution_count": 7,
   "metadata": {},
   "outputs": [
    {
     "data": {
      "text/plain": [
       "manual    268251\n",
       "auto       66285\n",
       "Name: Gearbox, dtype: int64"
      ]
     },
     "execution_count": 7,
     "metadata": {},
     "output_type": "execute_result"
    }
   ],
   "source": [
    "df.Gearbox.value_counts()"
   ]
  },
  {
   "cell_type": "code",
   "execution_count": 8,
   "metadata": {},
   "outputs": [
    {
     "data": {
      "text/plain": [
       "150000    238209\n",
       "125000     36454\n",
       "100000     14882\n",
       "90000      11567\n",
       "80000      10047\n",
       "70000       8593\n",
       "60000       7444\n",
       "5000        6397\n",
       "50000       6232\n",
       "40000       4911\n",
       "30000       4436\n",
       "20000       3975\n",
       "10000       1222\n",
       "Name: Mileage, dtype: int64"
      ]
     },
     "execution_count": 8,
     "metadata": {},
     "output_type": "execute_result"
    }
   ],
   "source": [
    "df.Mileage.value_counts()"
   ]
  },
  {
   "cell_type": "code",
   "execution_count": 9,
   "metadata": {},
   "outputs": [
    {
     "data": {
      "text/plain": [
       "golf                  29232\n",
       "other                 24421\n",
       "3er                   19761\n",
       "polo                  13066\n",
       "corsa                 12570\n",
       "                      ...  \n",
       "i3                        8\n",
       "serie_3                   4\n",
       "rangerover                4\n",
       "serie_1                   2\n",
       "range_rover_evoque        2\n",
       "Name: Model, Length: 250, dtype: int64"
      ]
     },
     "execution_count": 9,
     "metadata": {},
     "output_type": "execute_result"
    }
   ],
   "source": [
    "df.Model.value_counts()"
   ]
  },
  {
   "cell_type": "code",
   "execution_count": 10,
   "metadata": {},
   "outputs": [
    {
     "data": {
      "text/plain": [
       "0     37352\n",
       "3     34373\n",
       "6     31508\n",
       "4     29270\n",
       "5     29153\n",
       "7     27213\n",
       "10    26099\n",
       "12    24289\n",
       "11    24186\n",
       "9     23813\n",
       "1     23219\n",
       "8     22627\n",
       "2     21267\n",
       "Name: RegistrationMonth, dtype: int64"
      ]
     },
     "execution_count": 10,
     "metadata": {},
     "output_type": "execute_result"
    }
   ],
   "source": [
    "df.RegistrationMonth.value_counts()"
   ]
  },
  {
   "cell_type": "code",
   "execution_count": 11,
   "metadata": {},
   "outputs": [
    {
     "data": {
      "text/plain": [
       "petrol      216352\n",
       "gasoline     98720\n",
       "lpg           5310\n",
       "cng            565\n",
       "hybrid         233\n",
       "other          204\n",
       "electric        90\n",
       "Name: FuelType, dtype: int64"
      ]
     },
     "execution_count": 11,
     "metadata": {},
     "output_type": "execute_result"
    }
   ],
   "source": [
    "df.FuelType.value_counts()"
   ]
  },
  {
   "cell_type": "code",
   "execution_count": 12,
   "metadata": {},
   "outputs": [
    {
     "name": "stdout",
     "output_type": "stream",
     "text": [
      "40\n"
     ]
    },
    {
     "data": {
      "text/plain": [
       "volkswagen        77013\n",
       "opel              39931\n",
       "bmw               36914\n",
       "mercedes_benz     32046\n",
       "audi              29456\n",
       "ford              25179\n",
       "renault           17927\n",
       "peugeot           10998\n",
       "fiat               9643\n",
       "seat               6907\n",
       "mazda              5615\n",
       "skoda              5500\n",
       "smart              5246\n",
       "citroen            5148\n",
       "nissan             4941\n",
       "toyota             4606\n",
       "hyundai            3587\n",
       "sonstige_autos     3374\n",
       "volvo              3210\n",
       "mini               3202\n",
       "mitsubishi         3022\n",
       "honda              2817\n",
       "kia                2465\n",
       "suzuki             2323\n",
       "alfa_romeo         2314\n",
       "chevrolet          1754\n",
       "chrysler           1439\n",
       "dacia               900\n",
       "daihatsu            806\n",
       "subaru              762\n",
       "porsche             758\n",
       "jeep                677\n",
       "trabant             589\n",
       "land_rover          545\n",
       "daewoo              542\n",
       "saab                526\n",
       "jaguar              505\n",
       "rover               486\n",
       "lancia              471\n",
       "lada                225\n",
       "Name: Brand, dtype: int64"
      ]
     },
     "execution_count": 12,
     "metadata": {},
     "output_type": "execute_result"
    }
   ],
   "source": [
    "print(len(df.Brand.value_counts()))\n",
    "df.Brand.value_counts()"
   ]
  },
  {
   "cell_type": "code",
   "execution_count": 13,
   "metadata": {},
   "outputs": [
    {
     "data": {
      "text/plain": [
       "no     247161\n",
       "yes     36054\n",
       "Name: NotRepaired, dtype: int64"
      ]
     },
     "execution_count": 13,
     "metadata": {},
     "output_type": "execute_result"
    }
   ],
   "source": [
    "df.NotRepaired.value_counts()"
   ]
  },
  {
   "cell_type": "code",
   "execution_count": 14,
   "metadata": {},
   "outputs": [
    {
     "data": {
      "text/plain": [
       "0    354369\n",
       "Name: NumberOfPictures, dtype: int64"
      ]
     },
     "execution_count": 14,
     "metadata": {},
     "output_type": "execute_result"
    }
   ],
   "source": [
    "df.NumberOfPictures.value_counts()"
   ]
  },
  {
   "cell_type": "code",
   "execution_count": 15,
   "metadata": {},
   "outputs": [
    {
     "data": {
      "text/html": [
       "<div>\n",
       "<style scoped>\n",
       "    .dataframe tbody tr th:only-of-type {\n",
       "        vertical-align: middle;\n",
       "    }\n",
       "\n",
       "    .dataframe tbody tr th {\n",
       "        vertical-align: top;\n",
       "    }\n",
       "\n",
       "    .dataframe thead th {\n",
       "        text-align: right;\n",
       "    }\n",
       "</style>\n",
       "<table border=\"1\" class=\"dataframe\">\n",
       "  <thead>\n",
       "    <tr style=\"text-align: right;\">\n",
       "      <th></th>\n",
       "      <th>DateCrawled</th>\n",
       "      <th>Price</th>\n",
       "      <th>VehicleType</th>\n",
       "      <th>RegistrationYear</th>\n",
       "      <th>Gearbox</th>\n",
       "      <th>Power</th>\n",
       "      <th>Model</th>\n",
       "      <th>Mileage</th>\n",
       "      <th>RegistrationMonth</th>\n",
       "      <th>FuelType</th>\n",
       "      <th>Brand</th>\n",
       "      <th>NotRepaired</th>\n",
       "      <th>DateCreated</th>\n",
       "      <th>NumberOfPictures</th>\n",
       "      <th>PostalCode</th>\n",
       "      <th>LastSeen</th>\n",
       "    </tr>\n",
       "  </thead>\n",
       "  <tbody>\n",
       "    <tr>\n",
       "      <td>14266</td>\n",
       "      <td>21/03/2016 19:06</td>\n",
       "      <td>5999</td>\n",
       "      <td>small</td>\n",
       "      <td>2009</td>\n",
       "      <td>manual</td>\n",
       "      <td>80</td>\n",
       "      <td>polo</td>\n",
       "      <td>125000</td>\n",
       "      <td>5</td>\n",
       "      <td>petrol</td>\n",
       "      <td>volkswagen</td>\n",
       "      <td>no</td>\n",
       "      <td>21/03/2016 00:00</td>\n",
       "      <td>0</td>\n",
       "      <td>65529</td>\n",
       "      <td>05/04/2016 20:47</td>\n",
       "    </tr>\n",
       "    <tr>\n",
       "      <td>27568</td>\n",
       "      <td>23/03/2016 10:38</td>\n",
       "      <td>12200</td>\n",
       "      <td>bus</td>\n",
       "      <td>2011</td>\n",
       "      <td>manual</td>\n",
       "      <td>125</td>\n",
       "      <td>zafira</td>\n",
       "      <td>40000</td>\n",
       "      <td>10</td>\n",
       "      <td>gasoline</td>\n",
       "      <td>opel</td>\n",
       "      <td>no</td>\n",
       "      <td>23/03/2016 00:00</td>\n",
       "      <td>0</td>\n",
       "      <td>26629</td>\n",
       "      <td>05/04/2016 07:44</td>\n",
       "    </tr>\n",
       "    <tr>\n",
       "      <td>31599</td>\n",
       "      <td>03/04/2016 20:41</td>\n",
       "      <td>4950</td>\n",
       "      <td>wagon</td>\n",
       "      <td>2003</td>\n",
       "      <td>auto</td>\n",
       "      <td>170</td>\n",
       "      <td>e_klasse</td>\n",
       "      <td>150000</td>\n",
       "      <td>4</td>\n",
       "      <td>gasoline</td>\n",
       "      <td>mercedes_benz</td>\n",
       "      <td>no</td>\n",
       "      <td>03/04/2016 00:00</td>\n",
       "      <td>0</td>\n",
       "      <td>48432</td>\n",
       "      <td>05/04/2016 21:17</td>\n",
       "    </tr>\n",
       "    <tr>\n",
       "      <td>33138</td>\n",
       "      <td>07/03/2016 20:45</td>\n",
       "      <td>10900</td>\n",
       "      <td>convertible</td>\n",
       "      <td>2005</td>\n",
       "      <td>auto</td>\n",
       "      <td>163</td>\n",
       "      <td>clk</td>\n",
       "      <td>125000</td>\n",
       "      <td>5</td>\n",
       "      <td>petrol</td>\n",
       "      <td>mercedes_benz</td>\n",
       "      <td>no</td>\n",
       "      <td>07/03/2016 00:00</td>\n",
       "      <td>0</td>\n",
       "      <td>61200</td>\n",
       "      <td>21/03/2016 03:45</td>\n",
       "    </tr>\n",
       "    <tr>\n",
       "      <td>43656</td>\n",
       "      <td>13/03/2016 20:48</td>\n",
       "      <td>4200</td>\n",
       "      <td>sedan</td>\n",
       "      <td>2003</td>\n",
       "      <td>manual</td>\n",
       "      <td>105</td>\n",
       "      <td>golf</td>\n",
       "      <td>150000</td>\n",
       "      <td>10</td>\n",
       "      <td>gasoline</td>\n",
       "      <td>volkswagen</td>\n",
       "      <td>no</td>\n",
       "      <td>13/03/2016 00:00</td>\n",
       "      <td>0</td>\n",
       "      <td>14482</td>\n",
       "      <td>13/03/2016 20:48</td>\n",
       "    </tr>\n",
       "    <tr>\n",
       "      <td>...</td>\n",
       "      <td>...</td>\n",
       "      <td>...</td>\n",
       "      <td>...</td>\n",
       "      <td>...</td>\n",
       "      <td>...</td>\n",
       "      <td>...</td>\n",
       "      <td>...</td>\n",
       "      <td>...</td>\n",
       "      <td>...</td>\n",
       "      <td>...</td>\n",
       "      <td>...</td>\n",
       "      <td>...</td>\n",
       "      <td>...</td>\n",
       "      <td>...</td>\n",
       "      <td>...</td>\n",
       "      <td>...</td>\n",
       "    </tr>\n",
       "    <tr>\n",
       "      <td>349709</td>\n",
       "      <td>03/04/2016 20:52</td>\n",
       "      <td>700</td>\n",
       "      <td>small</td>\n",
       "      <td>1999</td>\n",
       "      <td>manual</td>\n",
       "      <td>60</td>\n",
       "      <td>ibiza</td>\n",
       "      <td>150000</td>\n",
       "      <td>12</td>\n",
       "      <td>petrol</td>\n",
       "      <td>seat</td>\n",
       "      <td>yes</td>\n",
       "      <td>03/04/2016 00:00</td>\n",
       "      <td>0</td>\n",
       "      <td>6268</td>\n",
       "      <td>05/04/2016 21:47</td>\n",
       "    </tr>\n",
       "    <tr>\n",
       "      <td>351555</td>\n",
       "      <td>26/03/2016 16:54</td>\n",
       "      <td>3150</td>\n",
       "      <td>bus</td>\n",
       "      <td>2003</td>\n",
       "      <td>manual</td>\n",
       "      <td>86</td>\n",
       "      <td>transit</td>\n",
       "      <td>150000</td>\n",
       "      <td>11</td>\n",
       "      <td>gasoline</td>\n",
       "      <td>ford</td>\n",
       "      <td>no</td>\n",
       "      <td>26/03/2016 00:00</td>\n",
       "      <td>0</td>\n",
       "      <td>96148</td>\n",
       "      <td>02/04/2016 07:47</td>\n",
       "    </tr>\n",
       "    <tr>\n",
       "      <td>352384</td>\n",
       "      <td>15/03/2016 21:54</td>\n",
       "      <td>5900</td>\n",
       "      <td>wagon</td>\n",
       "      <td>2006</td>\n",
       "      <td>manual</td>\n",
       "      <td>129</td>\n",
       "      <td>3er</td>\n",
       "      <td>150000</td>\n",
       "      <td>12</td>\n",
       "      <td>petrol</td>\n",
       "      <td>bmw</td>\n",
       "      <td>no</td>\n",
       "      <td>15/03/2016 00:00</td>\n",
       "      <td>0</td>\n",
       "      <td>92526</td>\n",
       "      <td>20/03/2016 21:17</td>\n",
       "    </tr>\n",
       "    <tr>\n",
       "      <td>353057</td>\n",
       "      <td>05/03/2016 14:16</td>\n",
       "      <td>9500</td>\n",
       "      <td>small</td>\n",
       "      <td>2013</td>\n",
       "      <td>manual</td>\n",
       "      <td>105</td>\n",
       "      <td>ibiza</td>\n",
       "      <td>40000</td>\n",
       "      <td>5</td>\n",
       "      <td>petrol</td>\n",
       "      <td>seat</td>\n",
       "      <td>no</td>\n",
       "      <td>04/03/2016 00:00</td>\n",
       "      <td>0</td>\n",
       "      <td>61381</td>\n",
       "      <td>05/04/2016 19:18</td>\n",
       "    </tr>\n",
       "    <tr>\n",
       "      <td>353727</td>\n",
       "      <td>20/03/2016 17:56</td>\n",
       "      <td>1</td>\n",
       "      <td>NaN</td>\n",
       "      <td>2000</td>\n",
       "      <td>NaN</td>\n",
       "      <td>0</td>\n",
       "      <td>NaN</td>\n",
       "      <td>150000</td>\n",
       "      <td>0</td>\n",
       "      <td>NaN</td>\n",
       "      <td>bmw</td>\n",
       "      <td>NaN</td>\n",
       "      <td>20/03/2016 00:00</td>\n",
       "      <td>0</td>\n",
       "      <td>42329</td>\n",
       "      <td>07/04/2016 00:46</td>\n",
       "    </tr>\n",
       "  </tbody>\n",
       "</table>\n",
       "<p>262 rows × 16 columns</p>\n",
       "</div>"
      ],
      "text/plain": [
       "             DateCrawled  Price  VehicleType  RegistrationYear Gearbox  Power  \\\n",
       "14266   21/03/2016 19:06   5999        small              2009  manual     80   \n",
       "27568   23/03/2016 10:38  12200          bus              2011  manual    125   \n",
       "31599   03/04/2016 20:41   4950        wagon              2003    auto    170   \n",
       "33138   07/03/2016 20:45  10900  convertible              2005    auto    163   \n",
       "43656   13/03/2016 20:48   4200        sedan              2003  manual    105   \n",
       "...                  ...    ...          ...               ...     ...    ...   \n",
       "349709  03/04/2016 20:52    700        small              1999  manual     60   \n",
       "351555  26/03/2016 16:54   3150          bus              2003  manual     86   \n",
       "352384  15/03/2016 21:54   5900        wagon              2006  manual    129   \n",
       "353057  05/03/2016 14:16   9500        small              2013  manual    105   \n",
       "353727  20/03/2016 17:56      1          NaN              2000     NaN      0   \n",
       "\n",
       "           Model  Mileage  RegistrationMonth  FuelType          Brand  \\\n",
       "14266       polo   125000                  5    petrol     volkswagen   \n",
       "27568     zafira    40000                 10  gasoline           opel   \n",
       "31599   e_klasse   150000                  4  gasoline  mercedes_benz   \n",
       "33138        clk   125000                  5    petrol  mercedes_benz   \n",
       "43656       golf   150000                 10  gasoline     volkswagen   \n",
       "...          ...      ...                ...       ...            ...   \n",
       "349709     ibiza   150000                 12    petrol           seat   \n",
       "351555   transit   150000                 11  gasoline           ford   \n",
       "352384       3er   150000                 12    petrol            bmw   \n",
       "353057     ibiza    40000                  5    petrol           seat   \n",
       "353727       NaN   150000                  0       NaN            bmw   \n",
       "\n",
       "       NotRepaired       DateCreated  NumberOfPictures  PostalCode  \\\n",
       "14266           no  21/03/2016 00:00                 0       65529   \n",
       "27568           no  23/03/2016 00:00                 0       26629   \n",
       "31599           no  03/04/2016 00:00                 0       48432   \n",
       "33138           no  07/03/2016 00:00                 0       61200   \n",
       "43656           no  13/03/2016 00:00                 0       14482   \n",
       "...            ...               ...               ...         ...   \n",
       "349709         yes  03/04/2016 00:00                 0        6268   \n",
       "351555          no  26/03/2016 00:00                 0       96148   \n",
       "352384          no  15/03/2016 00:00                 0       92526   \n",
       "353057          no  04/03/2016 00:00                 0       61381   \n",
       "353727         NaN  20/03/2016 00:00                 0       42329   \n",
       "\n",
       "                LastSeen  \n",
       "14266   05/04/2016 20:47  \n",
       "27568   05/04/2016 07:44  \n",
       "31599   05/04/2016 21:17  \n",
       "33138   21/03/2016 03:45  \n",
       "43656   13/03/2016 20:48  \n",
       "...                  ...  \n",
       "349709  05/04/2016 21:47  \n",
       "351555  02/04/2016 07:47  \n",
       "352384  20/03/2016 21:17  \n",
       "353057  05/04/2016 19:18  \n",
       "353727  07/04/2016 00:46  \n",
       "\n",
       "[262 rows x 16 columns]"
      ]
     },
     "execution_count": 15,
     "metadata": {},
     "output_type": "execute_result"
    }
   ],
   "source": [
    "df[df.duplicated()]"
   ]
  },
  {
   "cell_type": "code",
   "execution_count": 16,
   "metadata": {},
   "outputs": [
    {
     "data": {
      "text/plain": [
       "0.30633322892239445"
      ]
     },
     "execution_count": 16,
     "metadata": {},
     "output_type": "execute_result"
    }
   ],
   "source": [
    "# lets count missing values in columns\n",
    "sum(df.isna().any(axis=1)*1)/len(df)"
   ]
  },
  {
   "cell_type": "markdown",
   "metadata": {},
   "source": [
    "Conclusion:\n",
    "\n",
    "VehicleType, Gearbox, Model, FuelType, NotRepaired columns has Missing values. Since it covers 30% of our data we can not drop all null values even if we have huge data. We will replace it as representative value and consider it as sperate column\n",
    "\n",
    "DateCrawled, DateCreated and LastSeen can be converted in to datetime format. After that we can simply get total number of days till now and normalize it. Since our model could not process date\n",
    "\n",
    "RegistrationYear year having 9999 max value seems incorrect value\n",
    "\n",
    "Price is having 0 value, so there might be some free bikes in our data\n",
    "\n",
    "RegistrationMonth can't have 0 value, it seems incorrect. It might be possible that this values 0 is given as representative value for incorrect or null value in this column\n",
    "\n",
    "NumberOfPictures seems like having only zero values, if so, it will not going to be a significant feature we can safely remove it.\n",
    "\n",
    "Model column has 250 different values. We can not directly use this feature after one hot encoding. Since it will create 250 different columns\n",
    "\n",
    "Brand column has 40 unique value if we do one hot encoding it will create atleast 39 different columns\n",
    "\n",
    "we have 262 duplicate records we can drop it\n",
    "\n",
    "VehicleType, Gearbox, Model, FuelType, Brand, NotRepaired which needs to be one hot encode"
   ]
  },
  {
   "cell_type": "markdown",
   "metadata": {},
   "source": [
    "<h3>DATA PROCESSING:</h3>"
   ]
  },
  {
   "cell_type": "code",
   "execution_count": 17,
   "metadata": {},
   "outputs": [],
   "source": [
    "# drop duplicate records\n",
    "df = df.drop_duplicates()"
   ]
  },
  {
   "cell_type": "code",
   "execution_count": 18,
   "metadata": {},
   "outputs": [
    {
     "data": {
      "text/plain": [
       "0        2016-03-24 11:52:00\n",
       "1        2016-03-24 10:58:00\n",
       "2        2016-03-14 12:52:00\n",
       "3        2016-03-17 16:54:00\n",
       "4        2016-03-31 17:25:00\n",
       "                 ...        \n",
       "354364   2016-03-21 09:50:00\n",
       "354365   2016-03-14 17:48:00\n",
       "354366   2016-03-05 19:56:00\n",
       "354367   2016-03-19 18:57:00\n",
       "354368   2016-03-20 19:41:00\n",
       "Name: DateCrawled, Length: 354107, dtype: datetime64[ns]"
      ]
     },
     "execution_count": 18,
     "metadata": {},
     "output_type": "execute_result"
    }
   ],
   "source": [
    "pd.to_datetime(df['DateCrawled'], format='%d/%m/%Y %H:%M')"
   ]
  },
  {
   "cell_type": "code",
   "execution_count": 19,
   "metadata": {},
   "outputs": [
    {
     "name": "stdout",
     "output_type": "stream",
     "text": [
      "2016    354107\n",
      "Name: DateCrawled, dtype: int64\n",
      "\n",
      "2016    354081\n",
      "2015        25\n",
      "2014         1\n",
      "Name: DateCreated, dtype: int64\n",
      "\n",
      "2016    354107\n",
      "Name: LastSeen, dtype: int64\n"
     ]
    }
   ],
   "source": [
    "df['DateCrawled'] = pd.to_datetime(df['DateCrawled'], format='%d/%m/%Y %H:%M')\n",
    "df['DateCreated'] = pd.to_datetime(df['DateCreated'], format='%d/%m/%Y %H:%M')\n",
    "df['LastSeen'] = pd.to_datetime(df['LastSeen'], format='%d/%m/%Y %H:%M')\n",
    "print(df['DateCrawled'].dt.year.value_counts())\n",
    "print()\n",
    "print(df['DateCreated'].dt.year.value_counts())\n",
    "print()\n",
    "print(df['LastSeen'].dt.year.value_counts())"
   ]
  },
  {
   "cell_type": "code",
   "execution_count": 20,
   "metadata": {},
   "outputs": [],
   "source": [
    "latest_date = max([df['DateCrawled'].max(), df['DateCreated'].max(), df['LastSeen'].max()])"
   ]
  },
  {
   "cell_type": "code",
   "execution_count": 21,
   "metadata": {},
   "outputs": [],
   "source": [
    "latest_dates = pd.Series(latest_date, index=df.index)"
   ]
  },
  {
   "cell_type": "code",
   "execution_count": 22,
   "metadata": {},
   "outputs": [],
   "source": [
    "df['DayCrawled']=(latest_dates-df['DateCrawled']).dt.days\n",
    "df['DayCreated']=(latest_dates-df['DateCreated']).dt.days\n",
    "df['DayLastSeen']=(latest_dates-df['LastSeen']).dt.days"
   ]
  },
  {
   "cell_type": "code",
   "execution_count": 23,
   "metadata": {},
   "outputs": [],
   "source": [
    "# i. Drop Columns\n",
    "p_df = df.drop(columns=['NumberOfPictures', 'Model', 'DateCrawled', 'DateCreated', 'LastSeen'])"
   ]
  },
  {
   "cell_type": "code",
   "execution_count": 24,
   "metadata": {},
   "outputs": [
    {
     "data": {
      "text/plain": [
       "9999    26\n",
       "5000    17\n",
       "3000     7\n",
       "6000     5\n",
       "7000     4\n",
       "2500     4\n",
       "4000     3\n",
       "9000     3\n",
       "2800     2\n",
       "4500     2\n",
       "5555     2\n",
       "5911     2\n",
       "8000     2\n",
       "2222     2\n",
       "2066     1\n",
       "9996     1\n",
       "5900     1\n",
       "2200     1\n",
       "4800     1\n",
       "8455     1\n",
       "4100     1\n",
       "7800     1\n",
       "5300     1\n",
       "3500     1\n",
       "9229     1\n",
       "8888     1\n",
       "8500     1\n",
       "7100     1\n",
       "8200     1\n",
       "7500     1\n",
       "2900     1\n",
       "3800     1\n",
       "5600     1\n",
       "6500     1\n",
       "9450     1\n",
       "2290     1\n",
       "3700     1\n",
       "3200     1\n",
       "Name: RegistrationYear, dtype: int64"
      ]
     },
     "execution_count": 24,
     "metadata": {},
     "output_type": "execute_result"
    }
   ],
   "source": [
    "p_df.query('RegistrationYear>2019')['RegistrationYear'].value_counts()"
   ]
  },
  {
   "cell_type": "code",
   "execution_count": 25,
   "metadata": {},
   "outputs": [],
   "source": [
    "# filter incorrect registration years\n",
    "p_df = p_df.query('RegistrationYear<=2019')"
   ]
  },
  {
   "cell_type": "code",
   "execution_count": 26,
   "metadata": {},
   "outputs": [
    {
     "data": {
      "text/html": [
       "<div>\n",
       "<style scoped>\n",
       "    .dataframe tbody tr th:only-of-type {\n",
       "        vertical-align: middle;\n",
       "    }\n",
       "\n",
       "    .dataframe tbody tr th {\n",
       "        vertical-align: top;\n",
       "    }\n",
       "\n",
       "    .dataframe thead th {\n",
       "        text-align: right;\n",
       "    }\n",
       "</style>\n",
       "<table border=\"1\" class=\"dataframe\">\n",
       "  <thead>\n",
       "    <tr style=\"text-align: right;\">\n",
       "      <th></th>\n",
       "      <th>Price</th>\n",
       "      <th>VehicleType</th>\n",
       "      <th>RegistrationYear</th>\n",
       "      <th>Gearbox</th>\n",
       "      <th>Power</th>\n",
       "      <th>Mileage</th>\n",
       "      <th>RegistrationMonth</th>\n",
       "      <th>FuelType</th>\n",
       "      <th>Brand</th>\n",
       "      <th>NotRepaired</th>\n",
       "      <th>PostalCode</th>\n",
       "      <th>DayCrawled</th>\n",
       "      <th>DayCreated</th>\n",
       "      <th>DayLastSeen</th>\n",
       "    </tr>\n",
       "  </thead>\n",
       "  <tbody>\n",
       "    <tr>\n",
       "      <td>0</td>\n",
       "      <td>480</td>\n",
       "      <td>NaN</td>\n",
       "      <td>1993</td>\n",
       "      <td>manual</td>\n",
       "      <td>0</td>\n",
       "      <td>150000</td>\n",
       "      <td>0</td>\n",
       "      <td>petrol</td>\n",
       "      <td>volkswagen</td>\n",
       "      <td>NaN</td>\n",
       "      <td>70435</td>\n",
       "      <td>14</td>\n",
       "      <td>14</td>\n",
       "      <td>0</td>\n",
       "    </tr>\n",
       "    <tr>\n",
       "      <td>1</td>\n",
       "      <td>18300</td>\n",
       "      <td>coupe</td>\n",
       "      <td>2011</td>\n",
       "      <td>manual</td>\n",
       "      <td>190</td>\n",
       "      <td>125000</td>\n",
       "      <td>5</td>\n",
       "      <td>gasoline</td>\n",
       "      <td>audi</td>\n",
       "      <td>yes</td>\n",
       "      <td>66954</td>\n",
       "      <td>14</td>\n",
       "      <td>14</td>\n",
       "      <td>0</td>\n",
       "    </tr>\n",
       "    <tr>\n",
       "      <td>2</td>\n",
       "      <td>9800</td>\n",
       "      <td>suv</td>\n",
       "      <td>2004</td>\n",
       "      <td>auto</td>\n",
       "      <td>163</td>\n",
       "      <td>125000</td>\n",
       "      <td>8</td>\n",
       "      <td>gasoline</td>\n",
       "      <td>jeep</td>\n",
       "      <td>NaN</td>\n",
       "      <td>90480</td>\n",
       "      <td>24</td>\n",
       "      <td>24</td>\n",
       "      <td>2</td>\n",
       "    </tr>\n",
       "    <tr>\n",
       "      <td>3</td>\n",
       "      <td>1500</td>\n",
       "      <td>small</td>\n",
       "      <td>2001</td>\n",
       "      <td>manual</td>\n",
       "      <td>75</td>\n",
       "      <td>150000</td>\n",
       "      <td>6</td>\n",
       "      <td>petrol</td>\n",
       "      <td>volkswagen</td>\n",
       "      <td>no</td>\n",
       "      <td>91074</td>\n",
       "      <td>20</td>\n",
       "      <td>21</td>\n",
       "      <td>20</td>\n",
       "    </tr>\n",
       "    <tr>\n",
       "      <td>4</td>\n",
       "      <td>3600</td>\n",
       "      <td>small</td>\n",
       "      <td>2008</td>\n",
       "      <td>manual</td>\n",
       "      <td>69</td>\n",
       "      <td>90000</td>\n",
       "      <td>7</td>\n",
       "      <td>gasoline</td>\n",
       "      <td>skoda</td>\n",
       "      <td>no</td>\n",
       "      <td>60437</td>\n",
       "      <td>6</td>\n",
       "      <td>7</td>\n",
       "      <td>1</td>\n",
       "    </tr>\n",
       "  </tbody>\n",
       "</table>\n",
       "</div>"
      ],
      "text/plain": [
       "   Price VehicleType  RegistrationYear Gearbox  Power  Mileage  \\\n",
       "0    480         NaN              1993  manual      0   150000   \n",
       "1  18300       coupe              2011  manual    190   125000   \n",
       "2   9800         suv              2004    auto    163   125000   \n",
       "3   1500       small              2001  manual     75   150000   \n",
       "4   3600       small              2008  manual     69    90000   \n",
       "\n",
       "   RegistrationMonth  FuelType       Brand NotRepaired  PostalCode  \\\n",
       "0                  0    petrol  volkswagen         NaN       70435   \n",
       "1                  5  gasoline        audi         yes       66954   \n",
       "2                  8  gasoline        jeep         NaN       90480   \n",
       "3                  6    petrol  volkswagen          no       91074   \n",
       "4                  7  gasoline       skoda          no       60437   \n",
       "\n",
       "   DayCrawled  DayCreated  DayLastSeen  \n",
       "0          14          14            0  \n",
       "1          14          14            0  \n",
       "2          24          24            2  \n",
       "3          20          21           20  \n",
       "4           6           7            1  "
      ]
     },
     "execution_count": 26,
     "metadata": {},
     "output_type": "execute_result"
    }
   ],
   "source": [
    "p_df.head()"
   ]
  },
  {
   "cell_type": "code",
   "execution_count": 27,
   "metadata": {},
   "outputs": [],
   "source": [
    "del df"
   ]
  },
  {
   "cell_type": "code",
   "execution_count": 28,
   "metadata": {},
   "outputs": [],
   "source": [
    "p_df = p_df.fillna('NaN')"
   ]
  },
  {
   "cell_type": "code",
   "execution_count": 29,
   "metadata": {},
   "outputs": [
    {
     "data": {
      "text/plain": [
       "14"
      ]
     },
     "execution_count": 29,
     "metadata": {},
     "output_type": "execute_result"
    }
   ],
   "source": [
    "# Number of columns before OHE\n",
    "len(p_df.columns)"
   ]
  },
  {
   "cell_type": "code",
   "execution_count": 30,
   "metadata": {},
   "outputs": [],
   "source": [
    "OHE_df = pd.get_dummies(p_df, dummy_na=True, drop_first=True)"
   ]
  },
  {
   "cell_type": "code",
   "execution_count": 31,
   "metadata": {},
   "outputs": [
    {
     "data": {
      "text/html": [
       "<div>\n",
       "<style scoped>\n",
       "    .dataframe tbody tr th:only-of-type {\n",
       "        vertical-align: middle;\n",
       "    }\n",
       "\n",
       "    .dataframe tbody tr th {\n",
       "        vertical-align: top;\n",
       "    }\n",
       "\n",
       "    .dataframe thead th {\n",
       "        text-align: right;\n",
       "    }\n",
       "</style>\n",
       "<table border=\"1\" class=\"dataframe\">\n",
       "  <thead>\n",
       "    <tr style=\"text-align: right;\">\n",
       "      <th></th>\n",
       "      <th>Price</th>\n",
       "      <th>RegistrationYear</th>\n",
       "      <th>Power</th>\n",
       "      <th>Mileage</th>\n",
       "      <th>RegistrationMonth</th>\n",
       "      <th>PostalCode</th>\n",
       "      <th>DayCrawled</th>\n",
       "      <th>DayCreated</th>\n",
       "      <th>DayLastSeen</th>\n",
       "      <th>VehicleType_bus</th>\n",
       "      <th>...</th>\n",
       "      <th>Brand_subaru</th>\n",
       "      <th>Brand_suzuki</th>\n",
       "      <th>Brand_toyota</th>\n",
       "      <th>Brand_trabant</th>\n",
       "      <th>Brand_volkswagen</th>\n",
       "      <th>Brand_volvo</th>\n",
       "      <th>Brand_nan</th>\n",
       "      <th>NotRepaired_no</th>\n",
       "      <th>NotRepaired_yes</th>\n",
       "      <th>NotRepaired_nan</th>\n",
       "    </tr>\n",
       "  </thead>\n",
       "  <tbody>\n",
       "    <tr>\n",
       "      <td>0</td>\n",
       "      <td>480</td>\n",
       "      <td>1993</td>\n",
       "      <td>0</td>\n",
       "      <td>150000</td>\n",
       "      <td>0</td>\n",
       "      <td>70435</td>\n",
       "      <td>14</td>\n",
       "      <td>14</td>\n",
       "      <td>0</td>\n",
       "      <td>0</td>\n",
       "      <td>...</td>\n",
       "      <td>0</td>\n",
       "      <td>0</td>\n",
       "      <td>0</td>\n",
       "      <td>0</td>\n",
       "      <td>1</td>\n",
       "      <td>0</td>\n",
       "      <td>0</td>\n",
       "      <td>0</td>\n",
       "      <td>0</td>\n",
       "      <td>0</td>\n",
       "    </tr>\n",
       "    <tr>\n",
       "      <td>1</td>\n",
       "      <td>18300</td>\n",
       "      <td>2011</td>\n",
       "      <td>190</td>\n",
       "      <td>125000</td>\n",
       "      <td>5</td>\n",
       "      <td>66954</td>\n",
       "      <td>14</td>\n",
       "      <td>14</td>\n",
       "      <td>0</td>\n",
       "      <td>0</td>\n",
       "      <td>...</td>\n",
       "      <td>0</td>\n",
       "      <td>0</td>\n",
       "      <td>0</td>\n",
       "      <td>0</td>\n",
       "      <td>0</td>\n",
       "      <td>0</td>\n",
       "      <td>0</td>\n",
       "      <td>0</td>\n",
       "      <td>1</td>\n",
       "      <td>0</td>\n",
       "    </tr>\n",
       "    <tr>\n",
       "      <td>2</td>\n",
       "      <td>9800</td>\n",
       "      <td>2004</td>\n",
       "      <td>163</td>\n",
       "      <td>125000</td>\n",
       "      <td>8</td>\n",
       "      <td>90480</td>\n",
       "      <td>24</td>\n",
       "      <td>24</td>\n",
       "      <td>2</td>\n",
       "      <td>0</td>\n",
       "      <td>...</td>\n",
       "      <td>0</td>\n",
       "      <td>0</td>\n",
       "      <td>0</td>\n",
       "      <td>0</td>\n",
       "      <td>0</td>\n",
       "      <td>0</td>\n",
       "      <td>0</td>\n",
       "      <td>0</td>\n",
       "      <td>0</td>\n",
       "      <td>0</td>\n",
       "    </tr>\n",
       "    <tr>\n",
       "      <td>3</td>\n",
       "      <td>1500</td>\n",
       "      <td>2001</td>\n",
       "      <td>75</td>\n",
       "      <td>150000</td>\n",
       "      <td>6</td>\n",
       "      <td>91074</td>\n",
       "      <td>20</td>\n",
       "      <td>21</td>\n",
       "      <td>20</td>\n",
       "      <td>0</td>\n",
       "      <td>...</td>\n",
       "      <td>0</td>\n",
       "      <td>0</td>\n",
       "      <td>0</td>\n",
       "      <td>0</td>\n",
       "      <td>1</td>\n",
       "      <td>0</td>\n",
       "      <td>0</td>\n",
       "      <td>1</td>\n",
       "      <td>0</td>\n",
       "      <td>0</td>\n",
       "    </tr>\n",
       "    <tr>\n",
       "      <td>4</td>\n",
       "      <td>3600</td>\n",
       "      <td>2008</td>\n",
       "      <td>69</td>\n",
       "      <td>90000</td>\n",
       "      <td>7</td>\n",
       "      <td>60437</td>\n",
       "      <td>6</td>\n",
       "      <td>7</td>\n",
       "      <td>1</td>\n",
       "      <td>0</td>\n",
       "      <td>...</td>\n",
       "      <td>0</td>\n",
       "      <td>0</td>\n",
       "      <td>0</td>\n",
       "      <td>0</td>\n",
       "      <td>0</td>\n",
       "      <td>0</td>\n",
       "      <td>0</td>\n",
       "      <td>1</td>\n",
       "      <td>0</td>\n",
       "      <td>0</td>\n",
       "    </tr>\n",
       "  </tbody>\n",
       "</table>\n",
       "<p>5 rows × 72 columns</p>\n",
       "</div>"
      ],
      "text/plain": [
       "   Price  RegistrationYear  Power  Mileage  RegistrationMonth  PostalCode  \\\n",
       "0    480              1993      0   150000                  0       70435   \n",
       "1  18300              2011    190   125000                  5       66954   \n",
       "2   9800              2004    163   125000                  8       90480   \n",
       "3   1500              2001     75   150000                  6       91074   \n",
       "4   3600              2008     69    90000                  7       60437   \n",
       "\n",
       "   DayCrawled  DayCreated  DayLastSeen  VehicleType_bus  ...  Brand_subaru  \\\n",
       "0          14          14            0                0  ...             0   \n",
       "1          14          14            0                0  ...             0   \n",
       "2          24          24            2                0  ...             0   \n",
       "3          20          21           20                0  ...             0   \n",
       "4           6           7            1                0  ...             0   \n",
       "\n",
       "   Brand_suzuki  Brand_toyota  Brand_trabant  Brand_volkswagen  Brand_volvo  \\\n",
       "0             0             0              0                 1            0   \n",
       "1             0             0              0                 0            0   \n",
       "2             0             0              0                 0            0   \n",
       "3             0             0              0                 1            0   \n",
       "4             0             0              0                 0            0   \n",
       "\n",
       "   Brand_nan  NotRepaired_no  NotRepaired_yes  NotRepaired_nan  \n",
       "0          0               0                0                0  \n",
       "1          0               0                1                0  \n",
       "2          0               0                0                0  \n",
       "3          0               1                0                0  \n",
       "4          0               1                0                0  \n",
       "\n",
       "[5 rows x 72 columns]"
      ]
     },
     "execution_count": 31,
     "metadata": {},
     "output_type": "execute_result"
    }
   ],
   "source": [
    "OHE_df.head()"
   ]
  },
  {
   "cell_type": "code",
   "execution_count": 32,
   "metadata": {},
   "outputs": [],
   "source": [
    "#Convert Object type data to Categorical Columns\n",
    "for col in p_df.dtypes[p_df.dtypes == object].index:\n",
    "    p_df[col] = p_df[col].astype('category')"
   ]
  },
  {
   "cell_type": "code",
   "execution_count": 33,
   "metadata": {},
   "outputs": [
    {
     "name": "stdout",
     "output_type": "stream",
     "text": [
      "<class 'pandas.core.frame.DataFrame'>\n",
      "Int64Index: 354002 entries, 0 to 354368\n",
      "Data columns (total 14 columns):\n",
      "Price                354002 non-null int64\n",
      "VehicleType          354002 non-null category\n",
      "RegistrationYear     354002 non-null int64\n",
      "Gearbox              354002 non-null category\n",
      "Power                354002 non-null int64\n",
      "Mileage              354002 non-null int64\n",
      "RegistrationMonth    354002 non-null int64\n",
      "FuelType             354002 non-null category\n",
      "Brand                354002 non-null category\n",
      "NotRepaired          354002 non-null category\n",
      "PostalCode           354002 non-null int64\n",
      "DayCrawled           354002 non-null int64\n",
      "DayCreated           354002 non-null int64\n",
      "DayLastSeen          354002 non-null int64\n",
      "dtypes: category(5), int64(9)\n",
      "memory usage: 28.7 MB\n"
     ]
    }
   ],
   "source": [
    "p_df.info()"
   ]
  },
  {
   "cell_type": "markdown",
   "metadata": {},
   "source": [
    "# 2. Model training"
   ]
  },
  {
   "cell_type": "markdown",
   "metadata": {},
   "source": [
    "<h3>Step1. Create Train, Test and Valid set</h3>"
   ]
  },
  {
   "cell_type": "markdown",
   "metadata": {},
   "source": [
    "Since our model RandomForestRegressor or any other model will take a lot of time to train we will not consider entire dataset for hyperparameter training part we will only consider 10% of the data."
   ]
  },
  {
   "cell_type": "code",
   "execution_count": 34,
   "metadata": {},
   "outputs": [],
   "source": [
    "OHE_features, OHE_target = OHE_df.drop(columns=['Price']), OHE_df['Price']\n",
    "features, target = p_df.drop(columns=['Price']), p_df['Price']"
   ]
  },
  {
   "cell_type": "code",
   "execution_count": 35,
   "metadata": {},
   "outputs": [
    {
     "name": "stdout",
     "output_type": "stream",
     "text": [
      "OHE Train length: 286740 , Valid length: 31861 , Test Length 35401\n",
      "OHE Train length: 286740 , Valid length: 31861 , Test Length 35401\n"
     ]
    }
   ],
   "source": [
    "from sklearn.model_selection import train_test_split\n",
    "\n",
    "OHE_X_temp, OHE_X_test, OHE_y_temp, OHE_y_test = train_test_split(OHE_features, OHE_target, test_size=0.10, random_state=12345)\n",
    "OHE_X_train, OHE_X_valid, OHE_y_train, OHE_y_valid = train_test_split(OHE_X_temp, OHE_y_temp, test_size=0.10, random_state=12345)\n",
    "print(\"OHE Train length:\",len(OHE_y_train),\", Valid length:\", len(OHE_y_valid), \", Test Length\", len(OHE_y_test))\n",
    "\n",
    "X_temp, X_test, y_temp, y_test = train_test_split(features, target, test_size=0.10, random_state=12345)\n",
    "X_train, X_valid, y_train, y_valid = train_test_split(X_temp, y_temp, test_size=0.10, random_state=12345)\n",
    "print(\"OHE Train length:\",len(OHE_y_train),\", Valid length:\", len(OHE_y_valid), \", Test Length\", len(OHE_y_test))"
   ]
  },
  {
   "cell_type": "markdown",
   "metadata": {},
   "source": [
    "<h3>Step2. Experiment with Model</h3>"
   ]
  },
  {
   "cell_type": "code",
   "execution_count": 36,
   "metadata": {},
   "outputs": [],
   "source": [
    "from sklearn.model_selection import GridSearchCV, RandomizedSearchCV\n",
    "from sklearn.ensemble import RandomForestRegressor, ExtraTreesRegressor\n",
    "from sklearn.metrics import mean_squared_error\n",
    "from sklearn.linear_model import LinearRegression"
   ]
  },
  {
   "cell_type": "code",
   "execution_count": 37,
   "metadata": {},
   "outputs": [],
   "source": [
    "def algorithm_pipeline(X_train_data, X_valid_data, y_train_data, y_valid_data, \n",
    "                       model, param_grid, cv=5, scoring_fit='neg_root_mean_squared_error',\n",
    "                       do_probabilities = False, cat_features=None):\n",
    "    \n",
    "    gs = GridSearchCV(\n",
    "        estimator=model,\n",
    "        param_grid=param_grid, \n",
    "        cv=cv, \n",
    "        n_jobs=-1, \n",
    "        scoring=scoring_fit,\n",
    "        verbose=2\n",
    "    )\n",
    "    \n",
    "    fitted_model = gs.fit(X_train_data, y_train_data)\n",
    "    \n",
    "    if do_probabilities:\n",
    "        pred = fitted_model.predict_proba(X_valid_data)\n",
    "    else:\n",
    "        pred = fitted_model.predict(X_valid_data)\n",
    "    \n",
    "    return fitted_model, pred"
   ]
  },
  {
   "cell_type": "markdown",
   "metadata": {},
   "source": [
    "<h4>Creating Baseline Model</h4>"
   ]
  },
  {
   "cell_type": "code",
   "execution_count": 38,
   "metadata": {},
   "outputs": [],
   "source": [
    "linear_model = LinearRegression()"
   ]
  },
  {
   "cell_type": "code",
   "execution_count": 39,
   "metadata": {},
   "outputs": [
    {
     "name": "stdout",
     "output_type": "stream",
     "text": [
      "CPU times: user 4.41 s, sys: 1.78 s, total: 6.19 s\n",
      "Wall time: 6.33 s\n"
     ]
    },
    {
     "data": {
      "text/plain": [
       "LinearRegression()"
      ]
     },
     "execution_count": 39,
     "metadata": {},
     "output_type": "execute_result"
    }
   ],
   "source": [
    "%%time\n",
    "linear_model.fit(OHE_X_temp, OHE_y_temp)"
   ]
  },
  {
   "cell_type": "code",
   "execution_count": 40,
   "metadata": {},
   "outputs": [
    {
     "name": "stdout",
     "output_type": "stream",
     "text": [
      "CPU times: user 36.8 ms, sys: 15.6 ms, total: 52.5 ms\n",
      "Wall time: 110 ms\n"
     ]
    }
   ],
   "source": [
    "%%time\n",
    "test_pred = linear_model.predict(OHE_X_test)"
   ]
  },
  {
   "cell_type": "code",
   "execution_count": 41,
   "metadata": {},
   "outputs": [
    {
     "data": {
      "text/plain": [
       "3235.516464765666"
      ]
     },
     "execution_count": 41,
     "metadata": {},
     "output_type": "execute_result"
    }
   ],
   "source": [
    "mean_squared_error(OHE_y_test, test_pred, squared=False)"
   ]
  },
  {
   "cell_type": "markdown",
   "metadata": {},
   "source": [
    "mean_squared_error value for Linear Regression is 3235.516464765666"
   ]
  },
  {
   "cell_type": "markdown",
   "metadata": {},
   "source": [
    "<h3>Random Forest</h3>"
   ]
  },
  {
   "cell_type": "code",
   "execution_count": 42,
   "metadata": {},
   "outputs": [],
   "source": [
    "random_forest = RandomForestRegressor()"
   ]
  },
  {
   "cell_type": "code",
   "execution_count": 43,
   "metadata": {
    "scrolled": true
   },
   "outputs": [
    {
     "name": "stdout",
     "output_type": "stream",
     "text": [
      "Fitting 5 folds for each of 8 candidates, totalling 40 fits\n",
      "[CV] END ...max_depth=20, max_leaf_nodes=50, n_estimators=20; total time=  22.0s\n",
      "[CV] END ...max_depth=20, max_leaf_nodes=50, n_estimators=20; total time=  22.1s\n",
      "[CV] END ...max_depth=20, max_leaf_nodes=50, n_estimators=20; total time=  21.9s\n",
      "[CV] END ...max_depth=20, max_leaf_nodes=50, n_estimators=20; total time=  23.0s\n",
      "[CV] END ...max_depth=20, max_leaf_nodes=50, n_estimators=20; total time=  22.2s\n",
      "[CV] END ...max_depth=20, max_leaf_nodes=50, n_estimators=50; total time=  57.0s\n",
      "[CV] END ...max_depth=20, max_leaf_nodes=50, n_estimators=50; total time=  57.2s\n",
      "[CV] END ...max_depth=20, max_leaf_nodes=50, n_estimators=50; total time=  55.4s\n",
      "[CV] END ...max_depth=20, max_leaf_nodes=50, n_estimators=50; total time=  55.1s\n",
      "[CV] END ...max_depth=20, max_leaf_nodes=50, n_estimators=50; total time=  55.1s\n",
      "[CV] END ...max_depth=20, max_leaf_nodes=70, n_estimators=20; total time=  25.5s\n",
      "[CV] END ...max_depth=20, max_leaf_nodes=70, n_estimators=20; total time=  25.2s\n",
      "[CV] END ...max_depth=20, max_leaf_nodes=70, n_estimators=20; total time=  24.8s\n",
      "[CV] END ...max_depth=20, max_leaf_nodes=70, n_estimators=20; total time=  25.2s\n",
      "[CV] END ...max_depth=20, max_leaf_nodes=70, n_estimators=20; total time=  24.9s\n",
      "[CV] END ...max_depth=20, max_leaf_nodes=70, n_estimators=50; total time= 1.0min\n",
      "[CV] END ...max_depth=20, max_leaf_nodes=70, n_estimators=50; total time= 1.0min\n",
      "[CV] END ...max_depth=20, max_leaf_nodes=70, n_estimators=50; total time= 1.0min\n",
      "[CV] END ...max_depth=20, max_leaf_nodes=70, n_estimators=50; total time= 1.0min\n",
      "[CV] END ...max_depth=20, max_leaf_nodes=70, n_estimators=50; total time= 1.0min\n",
      "[CV] END ...max_depth=25, max_leaf_nodes=50, n_estimators=20; total time=  22.3s\n",
      "[CV] END ...max_depth=25, max_leaf_nodes=50, n_estimators=20; total time=  21.9s\n",
      "[CV] END ...max_depth=25, max_leaf_nodes=50, n_estimators=20; total time=  22.1s\n",
      "[CV] END ...max_depth=25, max_leaf_nodes=50, n_estimators=20; total time=  22.2s\n",
      "[CV] END ...max_depth=25, max_leaf_nodes=50, n_estimators=20; total time=  22.3s\n",
      "[CV] END ...max_depth=25, max_leaf_nodes=50, n_estimators=50; total time=  55.0s\n",
      "[CV] END ...max_depth=25, max_leaf_nodes=50, n_estimators=50; total time=  54.7s\n",
      "[CV] END ...max_depth=25, max_leaf_nodes=50, n_estimators=50; total time=  55.6s\n",
      "[CV] END ...max_depth=25, max_leaf_nodes=50, n_estimators=50; total time=  55.3s\n",
      "[CV] END ...max_depth=25, max_leaf_nodes=50, n_estimators=50; total time=  56.2s\n",
      "[CV] END ...max_depth=25, max_leaf_nodes=70, n_estimators=20; total time=  24.7s\n",
      "[CV] END ...max_depth=25, max_leaf_nodes=70, n_estimators=20; total time=  24.7s\n",
      "[CV] END ...max_depth=25, max_leaf_nodes=70, n_estimators=20; total time=  25.2s\n",
      "[CV] END ...max_depth=25, max_leaf_nodes=70, n_estimators=20; total time=  25.8s\n",
      "[CV] END ...max_depth=25, max_leaf_nodes=70, n_estimators=20; total time=  26.8s\n",
      "[CV] END ...max_depth=25, max_leaf_nodes=70, n_estimators=50; total time= 1.1min\n",
      "[CV] END ...max_depth=25, max_leaf_nodes=70, n_estimators=50; total time= 1.1min\n",
      "[CV] END ...max_depth=25, max_leaf_nodes=70, n_estimators=50; total time= 1.1min\n",
      "[CV] END ...max_depth=25, max_leaf_nodes=70, n_estimators=50; total time= 1.1min\n",
      "[CV] END ...max_depth=25, max_leaf_nodes=70, n_estimators=50; total time= 1.1min\n",
      "-2298.8600713306178\n",
      "{'max_depth': 20, 'max_leaf_nodes': 70, 'n_estimators': 50}\n"
     ]
    }
   ],
   "source": [
    "param_grid = {\n",
    "    'n_estimators': [20, 50],\n",
    "    'max_depth': [20,25],\n",
    "    'max_leaf_nodes': [50, 70]\n",
    "}\n",
    "\n",
    "estimator, pred = algorithm_pipeline(OHE_X_train, OHE_X_valid, OHE_y_train, OHE_y_valid, random_forest, \n",
    "                                 param_grid, cv=5)\n",
    "\n",
    "best_random_forest = estimator.best_estimator_\n",
    "print(estimator.best_score_)\n",
    "print(estimator.best_params_)"
   ]
  },
  {
   "cell_type": "code",
   "execution_count": 44,
   "metadata": {},
   "outputs": [],
   "source": [
    "best_random_forest = RandomForestRegressor(max_depth=20, max_leaf_nodes=70, n_estimators=50)"
   ]
  },
  {
   "cell_type": "code",
   "execution_count": 45,
   "metadata": {},
   "outputs": [
    {
     "name": "stdout",
     "output_type": "stream",
     "text": [
      "CPU times: user 1min 33s, sys: 83.8 ms, total: 1min 33s\n",
      "Wall time: 1min 34s\n"
     ]
    },
    {
     "data": {
      "text/plain": [
       "RandomForestRegressor(max_depth=20, max_leaf_nodes=70, n_estimators=50)"
      ]
     },
     "execution_count": 45,
     "metadata": {},
     "output_type": "execute_result"
    }
   ],
   "source": [
    "%%time\n",
    "best_random_forest.fit(OHE_X_temp, OHE_y_temp)"
   ]
  },
  {
   "cell_type": "markdown",
   "metadata": {},
   "source": [
    "This is the output here \n",
    "##### CPU times: user 1min 29s, sys: 132 ms, total: 1min 29s\n",
    "##### Wall time: 1min 30s\n",
    "##### RandomForestRegressor(max_depth=20, max_leaf_nodes=70, n_estimators=50)"
   ]
  },
  {
   "cell_type": "code",
   "execution_count": 46,
   "metadata": {},
   "outputs": [
    {
     "data": {
      "text/plain": [
       "RandomForestRegressor(max_depth=20, max_leaf_nodes=70, n_estimators=50)"
      ]
     },
     "execution_count": 46,
     "metadata": {},
     "output_type": "execute_result"
    }
   ],
   "source": [
    "RandomForestRegressor(max_depth=20, max_leaf_nodes=70, n_estimators=50)"
   ]
  },
  {
   "cell_type": "code",
   "execution_count": 47,
   "metadata": {},
   "outputs": [
    {
     "name": "stdout",
     "output_type": "stream",
     "text": [
      "CPU times: user 133 ms, sys: 4 ms, total: 137 ms\n",
      "Wall time: 164 ms\n"
     ]
    }
   ],
   "source": [
    "%%time\n",
    "test_pred = best_random_forest.predict(OHE_X_test)"
   ]
  },
  {
   "cell_type": "markdown",
   "metadata": {},
   "source": [
    "#### CPU times: user 138 ms, sys: 7 µs, total: 138 ms\n",
    "#### Wall time: 145 ms"
   ]
  },
  {
   "cell_type": "code",
   "execution_count": 48,
   "metadata": {},
   "outputs": [
    {
     "data": {
      "text/plain": [
       "2325.4533113123207"
      ]
     },
     "execution_count": 48,
     "metadata": {},
     "output_type": "execute_result"
    }
   ],
   "source": [
    "mean_squared_error(OHE_y_test, test_pred, squared=False)"
   ]
  },
  {
   "cell_type": "markdown",
   "metadata": {},
   "source": [
    "#### Output:2324.9809730663346"
   ]
  },
  {
   "cell_type": "markdown",
   "metadata": {},
   "source": [
    "<h3>LightGBM</h3>"
   ]
  },
  {
   "cell_type": "code",
   "execution_count": 49,
   "metadata": {},
   "outputs": [
    {
     "name": "stdout",
     "output_type": "stream",
     "text": [
      "Fitting 5 folds for each of 6 candidates, totalling 30 fits\n",
      "[CV] END ................learning_rate=0.01, n_estimators=20; total time=   8.5s\n",
      "[CV] END ................learning_rate=0.01, n_estimators=20; total time=  10.7s\n",
      "[CV] END ................learning_rate=0.01, n_estimators=20; total time=  10.1s\n",
      "[CV] END ................learning_rate=0.01, n_estimators=20; total time=  10.9s\n",
      "[CV] END ................learning_rate=0.01, n_estimators=20; total time=  11.2s\n",
      "[CV] END ................learning_rate=0.01, n_estimators=40; total time=  16.6s\n",
      "[CV] END ................learning_rate=0.01, n_estimators=40; total time=  18.0s\n",
      "[CV] END ................learning_rate=0.01, n_estimators=40; total time=  34.6s\n",
      "[CV] END ................learning_rate=0.01, n_estimators=40; total time=  14.1s\n",
      "[CV] END ................learning_rate=0.01, n_estimators=40; total time=  18.5s\n",
      "[CV] END .................learning_rate=0.1, n_estimators=20; total time=   9.1s\n",
      "[CV] END .................learning_rate=0.1, n_estimators=20; total time=   9.5s\n",
      "[CV] END .................learning_rate=0.1, n_estimators=20; total time=   9.8s\n",
      "[CV] END .................learning_rate=0.1, n_estimators=20; total time=  18.3s\n",
      "[CV] END .................learning_rate=0.1, n_estimators=20; total time=  24.7s\n",
      "[CV] END .................learning_rate=0.1, n_estimators=40; total time=  16.9s\n",
      "[CV] END .................learning_rate=0.1, n_estimators=40; total time=  15.8s\n",
      "[CV] END .................learning_rate=0.1, n_estimators=40; total time=  19.0s\n",
      "[CV] END .................learning_rate=0.1, n_estimators=40; total time=  17.5s\n",
      "[CV] END .................learning_rate=0.1, n_estimators=40; total time=  16.4s\n",
      "[CV] END ...................learning_rate=1, n_estimators=20; total time=   8.6s\n",
      "[CV] END ...................learning_rate=1, n_estimators=20; total time=   5.8s\n",
      "[CV] END ...................learning_rate=1, n_estimators=20; total time=   7.4s\n",
      "[CV] END ...................learning_rate=1, n_estimators=20; total time=   8.0s\n",
      "[CV] END ...................learning_rate=1, n_estimators=20; total time=   7.6s\n",
      "[CV] END ...................learning_rate=1, n_estimators=40; total time=  14.8s\n",
      "[CV] END ...................learning_rate=1, n_estimators=40; total time=  26.2s\n",
      "[CV] END ...................learning_rate=1, n_estimators=40; total time= 1.8min\n",
      "[CV] END ...................learning_rate=1, n_estimators=40; total time=   4.3s\n",
      "[CV] END ...................learning_rate=1, n_estimators=40; total time=   5.3s\n",
      "-1912.3528350092918\n",
      "{'learning_rate': 0.1, 'n_estimators': 40}\n"
     ]
    }
   ],
   "source": [
    "lgbm_regressor = lightgbm.LGBMRegressor(num_leaves=31)\n",
    "\n",
    "param_grid = {\n",
    "    'learning_rate': [0.01, 0.1, 1],\n",
    "    'n_estimators': [20, 40]\n",
    "}\n",
    "\n",
    "estimator, pred = algorithm_pipeline(X_train, X_valid, y_train, y_valid, lgbm_regressor, \n",
    "                                 param_grid, cv=5)\n",
    "\n",
    "best_lgbm_regressor = estimator.best_estimator_\n",
    "print(estimator.best_score_)\n",
    "print(estimator.best_params_)"
   ]
  },
  {
   "cell_type": "markdown",
   "metadata": {},
   "source": [
    "#### Fitting 5 folds for each of 6 candidates, totalling 30 fits\n",
    "#### [CV] END ................learning_rate=0.01, n_estimators=20; total time=   2.9s\n",
    "#### [CV] END ................learning_rate=0.01, n_estimators=20; total time=   3.1s\n",
    "#### [CV] END ................learning_rate=0.01, n_estimators=20; total time=   3.0s\n",
    "#### [CV] END ................learning_rate=0.01, n_estimators=20; total time=   3.0s\n",
    "#### [CV] END ................learning_rate=0.01, n_estimators=20; total time=   2.9s\n",
    "#### [CV] END ................learning_rate=0.01, n_estimators=40; total time=   5.1s\n",
    "#### [CV] END ................learning_rate=0.01, n_estimators=40; total time=   5.0s\n",
    "#### [CV] END ................learning_rate=0.01, n_estimators=40; total time=   5.2s\n",
    "#### [CV] END ................learning_rate=0.01, n_estimators=40; total time=   5.0s\n",
    "#### [CV] END ................learning_rate=0.01, n_estimators=40; total time=   5.5s\n",
    "#### [CV] END .................learning_rate=0.1, n_estimators=20; total time=   2.8s\n",
    "#### [CV] END .................learning_rate=0.1, n_estimators=20; total time=   3.1s\n",
    "#### [CV] END .................learning_rate=0.1, n_estimators=20; total time=   3.1s\n",
    "#### [CV] END .................learning_rate=0.1, n_estimators=20; total time=   3.1s\n",
    "#### [CV] END .................learning_rate=0.1, n_estimators=20; total time=   3.0s\n",
    "#### [CV] END .................learning_rate=0.1, n_estimators=40; total time=   5.4s\n",
    "#### [CV] END .................learning_rate=0.1, n_estimators=40; total time=   6.3s\n",
    "#### [CV] END .................learning_rate=0.1, n_estimators=40; total time=   5.0s\n",
    "#### [CV] END .................learning_rate=0.1, n_estimators=40; total time=   5.2s\n",
    "#### [CV] END .................learning_rate=0.1, n_estimators=40; total time=   5.1s\n",
    "#### [CV] END ...................learning_rate=1, n_estimators=20; total time=   2.9s\n",
    "#### [CV] END ...................learning_rate=1, n_estimators=20; total time=   3.1s\n",
    "#### [CV] END ...................learning_rate=1, n_estimators=20; total time=   2.8s\n",
    "#### [CV] END ...................learning_rate=1, n_estimators=20; total time=   2.6s\n",
    "#### [CV] END ...................learning_rate=1, n_estimators=20; total time=   2.6s\n",
    "#### [CV] END ...................learning_rate=1, n_estimators=40; total time=   4.1s\n",
    "#### [CV] END ...................learning_rate=1, n_estimators=40; total time=   3.8s\n",
    "#### [CV] END ...................learning_rate=1, n_estimators=40; total time=   3.9s\n",
    "#### [CV] END ...................learning_rate=1, n_estimators=40; total time=   3.9s\n",
    "#### [CV] END ...................learning_rate=1, n_estimators=40; total time=   3.9s\n",
    "#### -1912.3528350092918\n",
    "#### {'learning_rate': 0.1, 'n_estimators': 40}"
   ]
  },
  {
   "cell_type": "code",
   "execution_count": 50,
   "metadata": {},
   "outputs": [],
   "source": [
    "best_lgbm_regressor = lightgbm.LGBMRegressor(num_leaves=31,learning_rate=0.1, n_estimators=40, verbose=100)"
   ]
  },
  {
   "cell_type": "code",
   "execution_count": 51,
   "metadata": {},
   "outputs": [
    {
     "name": "stdout",
     "output_type": "stream",
     "text": [
      "CPU times: user 6.04 s, sys: 71.5 ms, total: 6.12 s\n",
      "Wall time: 6.18 s\n"
     ]
    },
    {
     "data": {
      "text/plain": [
       "LGBMRegressor(n_estimators=40, verbose=100)"
      ]
     },
     "execution_count": 51,
     "metadata": {},
     "output_type": "execute_result"
    }
   ],
   "source": [
    "%%time\n",
    "best_lgbm_regressor.fit(X_temp, y_temp)"
   ]
  },
  {
   "cell_type": "markdown",
   "metadata": {},
   "source": [
    "#### CPU times: user 6.1 s, sys: 61.5 ms, total: 6.17 s\n",
    "#### Wall time: 6.19 s\n",
    "#### LGBMRegressor(n_estimators=40, verbose=100)"
   ]
  },
  {
   "cell_type": "code",
   "execution_count": 52,
   "metadata": {},
   "outputs": [
    {
     "name": "stdout",
     "output_type": "stream",
     "text": [
      "CPU times: user 0 ns, sys: 4 µs, total: 4 µs\n",
      "Wall time: 7.15 µs\n"
     ]
    }
   ],
   "source": [
    "%time\n",
    "test_pred = best_lgbm_regressor.predict(X_test)"
   ]
  },
  {
   "cell_type": "markdown",
   "metadata": {},
   "source": [
    "#### CPU times: user 4 µs, sys: 0 ns, total: 4 µs\n",
    "#### Wall time: 8.34 µs"
   ]
  },
  {
   "cell_type": "code",
   "execution_count": 53,
   "metadata": {},
   "outputs": [
    {
     "data": {
      "text/plain": [
       "1936.182611920237"
      ]
     },
     "execution_count": 53,
     "metadata": {},
     "output_type": "execute_result"
    }
   ],
   "source": [
    "# by specifing squared=False we are getting rmse\n",
    "mean_squared_error(y_test, test_pred, squared=False)"
   ]
  },
  {
   "cell_type": "markdown",
   "metadata": {},
   "source": [
    "#### 1936.182611920237"
   ]
  },
  {
   "cell_type": "markdown",
   "metadata": {},
   "source": [
    "<h3>CatBoost</h3>"
   ]
  },
  {
   "cell_type": "code",
   "execution_count": 54,
   "metadata": {},
   "outputs": [
    {
     "data": {
      "text/plain": [
       "[0, 2, 6, 7, 8]"
      ]
     },
     "execution_count": 54,
     "metadata": {},
     "output_type": "execute_result"
    }
   ],
   "source": [
    "cat_features = [i for i, col in enumerate(X_train.columns) if X_train[col].dtypes.name == 'category']\n",
    "cat_features"
   ]
  },
  {
   "cell_type": "markdown",
   "metadata": {},
   "source": [
    "#### [0, 2, 6, 7, 8]"
   ]
  },
  {
   "cell_type": "code",
   "execution_count": 55,
   "metadata": {},
   "outputs": [],
   "source": [
    "from catboost import CatBoostRegressor\n",
    "\n",
    "cat_boost_regressor = CatBoostRegressor(cat_features=cat_features, loss_function='RMSE', verbose=100)"
   ]
  },
  {
   "cell_type": "code",
   "execution_count": 56,
   "metadata": {},
   "outputs": [
    {
     "name": "stdout",
     "output_type": "stream",
     "text": [
      "0:\tlearn: 4427.3872631\ttotal: 1.19s\tremaining: 19m 44s\n",
      "100:\tlearn: 2136.4992082\ttotal: 1m 32s\tremaining: 13m 40s\n",
      "200:\tlearn: 1978.8250346\ttotal: 3m 3s\tremaining: 12m 9s\n",
      "300:\tlearn: 1923.1123132\ttotal: 4m 38s\tremaining: 10m 46s\n",
      "400:\tlearn: 1888.9735092\ttotal: 6m 13s\tremaining: 9m 18s\n",
      "500:\tlearn: 1862.4235837\ttotal: 7m 49s\tremaining: 7m 47s\n",
      "600:\tlearn: 1842.6935998\ttotal: 9m 25s\tremaining: 6m 15s\n",
      "700:\tlearn: 1827.8935062\ttotal: 10m 57s\tremaining: 4m 40s\n",
      "800:\tlearn: 1816.6014181\ttotal: 12m 30s\tremaining: 3m 6s\n",
      "900:\tlearn: 1804.8100701\ttotal: 14m 5s\tremaining: 1m 32s\n",
      "999:\tlearn: 1794.0648401\ttotal: 15m 39s\tremaining: 0us\n",
      "CPU times: user 14min 14s, sys: 1min 22s, total: 15min 36s\n",
      "Wall time: 15min 44s\n"
     ]
    },
    {
     "data": {
      "text/plain": [
       "<catboost.core.CatBoostRegressor at 0x7ffaacad4850>"
      ]
     },
     "execution_count": 56,
     "metadata": {},
     "output_type": "execute_result"
    }
   ],
   "source": [
    "%%time\n",
    "cat_boost_regressor.fit(X=X_temp, y=y_temp)"
   ]
  },
  {
   "cell_type": "markdown",
   "metadata": {},
   "source": [
    "####  0:\tlearn: 4427.3872631\ttotal: 1.08s\tremaining: 17m 57s\n",
    "#### 100:\tlearn: 2136.4992082\ttotal: 1m 31s\tremaining: 13m 37s\n",
    "#### 200:\tlearn: 1978.8250346\ttotal: 3m 2s\tremaining: 12m 5s\n",
    "#### 300:\tlearn: 1923.1123132\ttotal: 4m 35s\tremaining: 10m 40s\n",
    "#### 400:\tlearn: 1888.9735092\ttotal: 6m 10s\tremaining: 9m 14s\n",
    "#### 500:\tlearn: 1862.4235837\ttotal: 7m 46s\tremaining: 7m 44s\n",
    "#### 600:\tlearn: 1842.6935998\ttotal: 9m 23s\tremaining: 6m 13s\n",
    "#### 700:\tlearn: 1827.8935062\ttotal: 10m 55s\tremaining: 4m 39s\n",
    "#### 800:\tlearn: 1816.6014181\ttotal: 12m 28s\tremaining: 3m 6s\n",
    "#### 900:\tlearn: 1804.8100701\ttotal: 14m 3s\tremaining: 1m 32s\n",
    "#### 999:\tlearn: 1794.0648401\ttotal: 15m 37s\tremaining: 0us\n",
    "#### CPU times: user 14min 36s, sys: 1min 1s, total: 15min 38s\n",
    "#### Wall time: 15min 41s\n",
    "#### <catboost.core.CatBoostRegressor at 0x7f06350be250>"
   ]
  },
  {
   "cell_type": "code",
   "execution_count": 57,
   "metadata": {},
   "outputs": [
    {
     "name": "stdout",
     "output_type": "stream",
     "text": [
      "CPU times: user 207 ms, sys: 16.8 ms, total: 224 ms\n",
      "Wall time: 224 ms\n"
     ]
    }
   ],
   "source": [
    "%%time\n",
    "test_pred = cat_boost_regressor.predict(X_test)"
   ]
  },
  {
   "cell_type": "markdown",
   "metadata": {},
   "source": [
    "#### CPU times: user 218 ms, sys: 362 µs, total: 219 ms\n",
    "#### Wall time: 194 ms"
   ]
  },
  {
   "cell_type": "code",
   "execution_count": 58,
   "metadata": {},
   "outputs": [
    {
     "data": {
      "text/plain": [
       "1845.0331368865575"
      ]
     },
     "execution_count": 58,
     "metadata": {},
     "output_type": "execute_result"
    }
   ],
   "source": [
    "# by specifing squared=False we are getting rmse\n",
    "mean_squared_error(y_test, test_pred, squared=False)"
   ]
  },
  {
   "cell_type": "markdown",
   "metadata": {},
   "source": [
    "#### 1845.0331368865575"
   ]
  },
  {
   "cell_type": "markdown",
   "metadata": {},
   "source": [
    "# 3. Model analysis"
   ]
  },
  {
   "cell_type": "markdown",
   "metadata": {},
   "source": [
    "<table><tr><th>Model Name</th>\t<th>RMSE</th>\t<th>Training Time</th>\t<th>Prediction Time</th></tr>\n",
    "    <tr><td>Linear Regression</td>\t<td>3235.516</td>\t<td>6.04 s</td>\t<td>107 ms</td></tr>\n",
    "    <tr><td>Random Forest</td>\t<td>2325.356</td>\t<td>1min 31s</td>\t<td>158 ms</td></tr>\n",
    "    <tr><td>LightGBM</td>\t<td>1936.18</td>\t<td>6min 48s</td>\t<td>9.06 µs</td></tr>\n",
    "    <tr><td>Cat Boost Regressor</td>\t<td>1845.0331368865575</td>\t<td>15min 41s</td>\t<td>194 ms</td></tr></table>"
   ]
  },
  {
   "cell_type": "markdown",
   "metadata": {},
   "source": [
    "From above observations we can say that,\n",
    "\n",
    "LightGBM gives least prediction time,\n",
    "While Cat Boost Regressor gives best RMSE score for but requires longer training time and infererence time\n",
    "All other models gives better score compare to our baseline model LinearRegressor"
   ]
  },
  {
   "cell_type": "markdown",
   "metadata": {},
   "source": [
    "## Checklist"
   ]
  },
  {
   "cell_type": "markdown",
   "metadata": {},
   "source": [
    "Type 'x' to check. Then press Shift+Enter."
   ]
  },
  {
   "cell_type": "markdown",
   "metadata": {},
   "source": [
    "- [x]  Jupyter Notebook is open\n",
    "- [x]  Code is error free\n",
    "- [x]  The cells with the code have been arranged in order of execution\n",
    "- [x]  The data has been downloaded and prepared\n",
    "- [x]  The models have been trained\n",
    "- [x]  The analysis of speed and quality of the models has been performed"
   ]
  },
  {
   "cell_type": "code",
   "execution_count": null,
   "metadata": {},
   "outputs": [],
   "source": []
  }
 ],
 "metadata": {
  "kernelspec": {
   "display_name": "Python 3 (ipykernel)",
   "language": "python",
   "name": "python3"
  },
  "language_info": {
   "codemirror_mode": {
    "name": "ipython",
    "version": 3
   },
   "file_extension": ".py",
   "mimetype": "text/x-python",
   "name": "python",
   "nbconvert_exporter": "python",
   "pygments_lexer": "ipython3",
   "version": "3.9.5"
  },
  "toc": {
   "base_numbering": 1,
   "nav_menu": {},
   "number_sections": true,
   "sideBar": true,
   "skip_h1_title": true,
   "title_cell": "Table of Contents",
   "title_sidebar": "Contents",
   "toc_cell": false,
   "toc_position": {},
   "toc_section_display": true,
   "toc_window_display": false
  }
 },
 "nbformat": 4,
 "nbformat_minor": 2
}
